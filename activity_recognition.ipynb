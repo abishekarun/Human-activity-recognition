{
 "cells": [
  {
   "cell_type": "code",
   "execution_count": 1,
   "metadata": {},
   "outputs": [],
   "source": [
    "import pandas as pd\n",
    "import numpy as np\n",
    "from hyperopt import fmin, tpe, hp, STATUS_OK, Trials\n",
    "from sklearn.model_selection import cross_val_score\n",
    "from sklearn.preprocessing import normalize,scale,LabelEncoder\n",
    "from sklearn.metrics import accuracy_score\n",
    "from sklearn.svm import SVC\n",
    "from sklearn.tree import DecisionTreeClassifier\n",
    "from sklearn.naive_bayes import BernoulliNB\n",
    "from sklearn.neighbors import KNeighborsClassifier"
   ]
  },
  {
   "cell_type": "code",
   "execution_count": 2,
   "metadata": {},
   "outputs": [],
   "source": [
    "X_train=pd.read_table('data\\X_train.txt', sep='\\s+',header=None)\n",
    "X_test=pd.read_table('data\\X_test.txt', sep='\\s+',header=None)\n",
    "Y_train=pd.read_table('data\\Y_train.txt',header=None)\n",
    "Y_test=pd.read_table('data\\Y_test.txt',header=None)"
   ]
  },
  {
   "cell_type": "code",
   "execution_count": 3,
   "metadata": {},
   "outputs": [
    {
     "name": "stdout",
     "output_type": "stream",
     "text": [
      "False\n",
      "0    False\n",
      "dtype: bool\n",
      "False\n",
      "0    False\n",
      "dtype: bool\n"
     ]
    }
   ],
   "source": [
    "## Check for missing values\n",
    "print(X_train.isnull().any().any())\n",
    "print(Y_train.isnull().any())\n",
    "print(X_test.isnull().any().any())\n",
    "print(Y_test.isnull().any())"
   ]
  },
  {
   "cell_type": "code",
   "execution_count": 4,
   "metadata": {},
   "outputs": [],
   "source": [
    "## Normalize and scale the data\n",
    "X_train=normalize(X_train)\n",
    "X_train=scale(X_train)\n",
    "X_test=normalize(X_test)\n",
    "X_test=scale(X_test)"
   ]
  },
  {
   "cell_type": "code",
   "execution_count": 5,
   "metadata": {},
   "outputs": [],
   "source": [
    "## Label encode the target columns\n",
    "le = LabelEncoder()\n",
    "Y_train = le.fit_transform(Y_train.values.ravel())\n",
    "Y_test=le.transform(Y_test.values.ravel())"
   ]
  },
  {
   "cell_type": "code",
   "execution_count": 6,
   "metadata": {},
   "outputs": [],
   "source": [
    "def hyperopt_train_test(params):\n",
    "    t = params['type']\n",
    "    del params['type']\n",
    "    if t == 'naive_bayes':\n",
    "        clf = BernoulliNB(**params)\n",
    "    elif t == 'svm':\n",
    "        clf = SVC(**params)\n",
    "    elif t == 'dtree':\n",
    "        clf = DecisionTreeClassifier(**params)\n",
    "    elif t == 'knn':\n",
    "        clf = KNeighborsClassifier(**params)\n",
    "    else:\n",
    "        return 0\n",
    "    return cross_val_score(clf, X_train, Y_train).mean()"
   ]
  },
  {
   "cell_type": "code",
   "execution_count": 7,
   "metadata": {},
   "outputs": [],
   "source": [
    "space = hp.choice('classifier_type', [\n",
    "    {\n",
    "        'type': 'naive_bayes',\n",
    "        'alpha': hp.uniform('alpha', 0.0, 2.0)\n",
    "    },\n",
    "    {\n",
    "        'type': 'svm',\n",
    "        'C': hp.uniform('C', 0, 10.0),\n",
    "        'kernel': hp.choice('kernel', ['linear', 'rbf']),\n",
    "        'gamma': hp.uniform('gamma', 0, 20.0)\n",
    "    },\n",
    "    {\n",
    "        'type': 'randomforest',\n",
    "        'max_depth': hp.choice('max_depth', range(1,20)),\n",
    "        'max_features': hp.choice('max_features', range(1,5)),\n",
    "        'n_estimators': hp.choice('n_estimators', range(1,20)),\n",
    "        'criterion': hp.choice('criterion', [\"gini\", \"entropy\"]),\n",
    "        'scale': hp.choice('scale', [0, 1]),\n",
    "        'normalize': hp.choice('normalize', [0, 1])\n",
    "    },\n",
    "    {\n",
    "        'type': 'knn',\n",
    "        'n_neighbors': hp.choice('knn_n_neighbors', range(1,50))\n",
    "    }\n",
    "])"
   ]
  },
  {
   "cell_type": "code",
   "execution_count": 8,
   "metadata": {},
   "outputs": [],
   "source": [
    "count = 0\n",
    "best = 0\n",
    "def f(params):\n",
    "    global best, count\n",
    "    count += 1\n",
    "    acc = hyperopt_train_test(params.copy())\n",
    "    if acc > best:\n",
    "        print('new best:', acc, 'using', params['type'])\n",
    "        best = acc\n",
    "    if count % 10 == 0:\n",
    "        print('iters:', count, ', acc:', acc, 'using', params)\n",
    "    return {'loss': -acc, 'status': STATUS_OK}"
   ]
  },
  {
   "cell_type": "code",
   "execution_count": 9,
   "metadata": {},
   "outputs": [
    {
     "name": "stdout",
     "output_type": "stream",
     "text": [
      "new best: 0.885204643757 using knn\n",
      "iters: 10 , acc: 0.881941556757 using {'type': 'knn', 'n_neighbors': 44}\n",
      "new best: 0.88982983079 using knn\n",
      "new best: 0.93798379874 using svm\n",
      "iters: 20 , acc: 0.882213443652 using {'type': 'knn', 'n_neighbors': 38}\n",
      "new best: 0.939344788124 using svm\n",
      "new best: 0.940296836516 using svm\n",
      "iters: 30 , acc: 0.939752840596 using {'gamma': 2.9277750837102703, 'C': 1.3175677714196605, 'type': 'svm', 'kernel': 'linear'}\n",
      "iters: 40 , acc: 0.937576412657 using {'gamma': 2.1122991379370877, 'C': 3.417073639309813, 'type': 'svm', 'kernel': 'linear'}\n",
      "iters: 50 , acc: 0.884252595365 using {'type': 'knn', 'n_neighbors': 12}\n",
      "best:\n",
      "{'gamma': 0.1177375984714764, 'classifier_type': 1, 'C': 1.2932547321619117, 'kernel': 0}\n"
     ]
    }
   ],
   "source": [
    "trials = Trials()\n",
    "best = fmin(f, space, algo=tpe.suggest, max_evals=50, trials=trials)\n",
    "print('best:')\n",
    "print(best)"
   ]
  },
  {
   "cell_type": "code",
   "execution_count": 10,
   "metadata": {},
   "outputs": [],
   "source": [
    "t=best['classifier_type']\n",
    "del best['classifier_type']"
   ]
  },
  {
   "cell_type": "code",
   "execution_count": 11,
   "metadata": {},
   "outputs": [
    {
     "name": "stdout",
     "output_type": "stream",
     "text": [
      "{'gamma': 0.1177375984714764, 'C': 1.2932547321619117, 'kernel': 0}\n"
     ]
    }
   ],
   "source": [
    "params = {key.split('_', 1)[-1]: item for key, item in best.items()}\n",
    "print(params)"
   ]
  },
  {
   "cell_type": "code",
   "execution_count": 12,
   "metadata": {},
   "outputs": [],
   "source": [
    "if t == 0:\n",
    "    clf = BernoulliNB(**params)\n",
    "elif t == 1:\n",
    "    p=params['kernel']\n",
    "    if(p==0):\n",
    "        params['kernel']='linear'\n",
    "    else:\n",
    "        params['kernel']='rbf'\n",
    "    clf = SVC(**params)\n",
    "elif t == 2:\n",
    "    p=params['criterion']\n",
    "    if(p==0):\n",
    "        params['criterion']='gini'\n",
    "    else:\n",
    "        params['criterion']='entropy'\n",
    "    clf = DecisionTreeClassifier(**params)\n",
    "elif t == 3:\n",
    "    clf = KNeighborsClassifier(**params)"
   ]
  },
  {
   "cell_type": "code",
   "execution_count": 13,
   "metadata": {},
   "outputs": [
    {
     "data": {
      "text/plain": [
       "SVC(C=1.2932547321619117, cache_size=200, class_weight=None, coef0=0.0,\n",
       "  decision_function_shape='ovr', degree=3, gamma=0.1177375984714764,\n",
       "  kernel='linear', max_iter=-1, probability=False, random_state=None,\n",
       "  shrinking=True, tol=0.001, verbose=False)"
      ]
     },
     "execution_count": 13,
     "metadata": {},
     "output_type": "execute_result"
    }
   ],
   "source": [
    "clf"
   ]
  },
  {
   "cell_type": "code",
   "execution_count": 14,
   "metadata": {},
   "outputs": [],
   "source": [
    "clf.fit(X_train,Y_train)\n",
    "ypred=clf.predict(X_test)"
   ]
  },
  {
   "cell_type": "code",
   "execution_count": 15,
   "metadata": {},
   "outputs": [
    {
     "data": {
      "text/plain": [
       "0.96572785883949774"
      ]
     },
     "execution_count": 15,
     "metadata": {},
     "output_type": "execute_result"
    }
   ],
   "source": [
    "accuracy_score(Y_test, ypred)"
   ]
  }
 ],
 "metadata": {
  "kernelspec": {
   "display_name": "Python 3",
   "language": "python",
   "name": "python3"
  },
  "language_info": {
   "codemirror_mode": {
    "name": "ipython",
    "version": 3
   },
   "file_extension": ".py",
   "mimetype": "text/x-python",
   "name": "python",
   "nbconvert_exporter": "python",
   "pygments_lexer": "ipython3",
   "version": "3.5.2"
  }
 },
 "nbformat": 4,
 "nbformat_minor": 2
}
